{
 "cells": [
  {
   "cell_type": "markdown",
   "id": "ea1bfa20-f9cb-41ab-8b6f-d9066cdffc83",
   "metadata": {},
   "source": [
    "# Set 2"
   ]
  },
  {
   "cell_type": "code",
   "execution_count": null,
   "id": "9bf13978-138f-4e0d-9774-11cd51809a93",
   "metadata": {},
   "outputs": [],
   "source": [
    "import numpy as np"
   ]
  },
  {
   "cell_type": "markdown",
   "id": "55c18376-0788-446c-bcc0-c76d9dd64919",
   "metadata": {},
   "source": [
    "## 2.1 Diffusion Limited Aggregation (**DLA**)\n",
    "\n",
    "The diffusion-limited aggregation (**DLA**) is a growth model based on diffusing particles.  The growth is started with a single seed (just a small square object in a single lattice point, at the bottom of the computational domain).  As described in detail in the lecture notes, **DLA** can be modeled by solving the time-independent diffusion equation (i.e. the Laplace equation), locating growth candidates around the cluster, and assigning a growth probability \\( $p_g$ \\) for each growth candidate, as a function of the concentration of diffusing nutrients at that growth location.  Next, a single growth candidate is added to the cluster with probability \\( $p_g$ \\).  After this growth step, the diffusion equation is again solved, and the process is iterated for a large number of growth steps.  You currently have almost all the tools available for a simulation of the **DLA** growth model.  Let us take a closer look at the growth model itself, allowing you to insert this into your programs.  A growth candidate is basically a lattice site that is not part of the object, but whose north, east, south, or west neighbor is part of the object. the object.\n"
   ]
  },
  {
   "cell_type": "markdown",
   "id": "f39725cb-cdb8-4793-b913-e635f2695fe0",
   "metadata": {},
   "source": [
    "The probability for growth at each of the growth candidates is calculated by\n",
    "\n",
    "$$\n",
    "p_g(i,j) = \\frac{c_{i,j}^\\eta}{\\sum_{\\mathrm{growth\\ candidates}} c_{i,j}^\\eta}\n",
    "$$\n",
    "\n",
    "The parameter $\\eta$ determines the shape of the object. For $\\eta$ = 1 we get the normal DLA cluster. For $\\eta$ < 1 the object becomes more compact (with $\\eta$ = 0 resulting in the Eden cluster), and for $\\eta$ > 1 the cluster becomes more open (and finally resembles say a lightning flash).\n",
    "\n",
    "Modelling the growth is now a simple procedure.  A set is created of all growth candidates with their associated weights, and a single candidate is chosen. Hint: use *numpy.choice* with the $p$ parameter for this."
   ]
  },
  {
   "cell_type": "markdown",
   "id": "bbf19871-7401-4db3-8eb9-9be964b0634a",
   "metadata": {},
   "source": [
    "---"
   ]
  },
  {
   "cell_type": "markdown",
   "id": "3af02881-25aa-4806-9eaa-26776c870e2e",
   "metadata": {},
   "source": [
    "### **A**. (4 points)\n",
    "Implement the growth model, paying special attention to the calcu\u0002lation of the growth probabilities. Run a number of growth simulations. Try to do this for a domain of size 100 × 100 and investigate the influence of the $\\eta$ parameter. Can you still optimise by setting your $\\omega$ parameter in the SOR iteration to a specific value?\n",
    "\n",
    "Hint: the SOR iteration is run over and over again on a slowly growing object. As\n",
    "the growth step is constructed in such a way that on average only one lattice site\n",
    "is grown to the object, the concentration fields will hardly change. Therefore, it is\n",
    "advantageous to start a new SOR iteration with the solution of the previous growth\n",
    "step. Also, you can start the simulation with the analytical result for the empty\n",
    "system, the linear concentration gradient of this equation\n",
    "\n",
    "$$\n",
    "\\lim\\limits_{t \\to \\infty} c(y,t) = y.\n",
    "$$\n"
   ]
  },
  {
   "cell_type": "code",
   "execution_count": null,
   "id": "2233b690-be31-44b4-af31-5f22a84cbd94",
   "metadata": {},
   "outputs": [],
   "source": []
  },
  {
   "cell_type": "markdown",
   "id": "a10e4f31-1ece-4bef-928d-f0e2436c970a",
   "metadata": {},
   "source": [
    "### **Optional**: (1 point) \n",
    "Think of a way to reduce the time required to solve the diffusion equation. Compare your results for the 100 × 100 grid in question A and try larger grid sizes. Some suggestions: parallelize one of the iteration schemes in the previous exercise set, and possibly use a GPU to do the calculations."
   ]
  },
  {
   "cell_type": "code",
   "execution_count": null,
   "id": "d7e307c5-3673-4b24-ab04-961823dafcf2",
   "metadata": {},
   "outputs": [],
   "source": []
  },
  {
   "cell_type": "markdown",
   "id": "3134e716-5397-4666-a880-7278eb6b8daf",
   "metadata": {},
   "source": [
    "---"
   ]
  },
  {
   "cell_type": "markdown",
   "id": "6dc48507-4804-4b4b-95a5-374ce5c6a9ab",
   "metadata": {},
   "source": [
    "## 2.2 Monte Carlo simulation of DLA\n",
    "\n",
    "DLA can also be simulated by releasing random walkers on a grid, and letting them\n",
    "walk until they hit the cluster. When they hit, the walkers are stopped and become\n",
    "part of the cluster.\n",
    "One random walker at a time is released in the system. It moves in steps, which\n",
    "are randomly chosen to be one lattice point up, down, left, or right. If the walker\n",
    "reaches a cell neighboring the cluster, the walker is stopped there, so that the cell\n",
    "with the walker becomes part of the cluster.\n",
    "To simulate with the same boundary conditions as above, start the walkers on a\n",
    "randomly chosen point on the top boundary. If a walker walks out of the system\n",
    "on the top or bottom boundary it is removed and a new one created instead. If it\n",
    "walks across the left or right boundary, it should enter the system from the other\n",
    "side, as periodic boundary conditions were assumed in the horizontal direction."
   ]
  },
  {
   "cell_type": "markdown",
   "id": "7f79d5cf-6aca-4f3e-8a7d-f99aaf089f58",
   "metadata": {},
   "source": [
    "### **B**. (2 points) \n",
    "Implement the Monte Carlo version of DLA. Compare the resulting \n",
    "cluster to those obtained with the diffusion equation."
   ]
  },
  {
   "cell_type": "code",
   "execution_count": null,
   "id": "1a778713-e568-4093-99f1-fc03a1e19f55",
   "metadata": {},
   "outputs": [],
   "source": []
  },
  {
   "cell_type": "markdown",
   "id": "3b276af1-8108-434e-acbb-b80708e2f79f",
   "metadata": {},
   "source": [
    "### **C**. (1 point)\n",
    "In this model, the $\\eta$ parameter is no longer easily variable; it is fixed to 1.  However, another parameter can be introduced, namely a sticking probability $p_s$.  The sticking rule can then be stated in the following way:  if the walker enters a cell that is a neighbor of the cluster, it stops there with probability $p_s$.  If it does not stick, the walk continues as normal.  The walker is, however, not allowed to move into a site belonging to the cluster.  Run the simulation for different values of $p_s$, and plot the results.  How does the cluster shape depend on $p_s$ ?"
   ]
  },
  {
   "cell_type": "code",
   "execution_count": null,
   "id": "d602696e-bed4-42d6-b32c-bcfc2b4428c9",
   "metadata": {},
   "outputs": [],
   "source": []
  },
  {
   "cell_type": "markdown",
   "id": "ab52446b-38ea-4600-b95c-863fcda0606f",
   "metadata": {},
   "source": [
    "---"
   ]
  },
  {
   "cell_type": "markdown",
   "id": "5f7c07fd-376b-4c3b-85c8-9476f4512f45",
   "metadata": {},
   "source": [
    "## 2.3 The Gray-Scott model - A reaction-diffusion system\n",
    "\n",
    "The Gray-Scott model (J. E. Pearson, *Science*, Vol 261, 5118, 189-192 (1993))  \n",
    "describes a system of chemical reactions, involving the two chemicals $U$ and $V$.  \n",
    "Both chemicals diffuse in the system and also react with each other.  The reaction rate at any point in space is determined by the *local* concentrations of $U$ and $V$.  \n",
    "The reactions are:\n",
    "\n",
    "$$\n",
    "U + 2V \\rightarrow 3V \\tag{15}\n",
    "$$\n",
    "\n",
    "$$\n",
    "V \\rightarrow P \\tag{16}\n",
    "$$\n",
    "\n",
    "$U$ is continuously fed into the system. It then reacts with $V$ to produce more $V$.  $V$ spontaneously decays into $P$, a reaction product that does not interact with $U$ and $V$.  The first reaction is said to be autocatalytic since the reaction product $V$ enhances the production of itself.\n",
    "\n",
    "If we let $u$ and $v$ denote the concentrations of $U$ and $V$,  \n",
    "the following equations can be formulated:\n",
    "\n",
    "$$\n",
    "\\frac{\\partial u}{\\partial t} = D_u \\nabla^2 u - uv^2 + f(1 - u), \\tag{17}\n",
    "$$\n",
    "\n",
    "$$\n",
    "\\frac{\\partial v}{\\partial t} = D_v \\nabla^2 v + uv^2 - (f + k)v. \\tag{18}\n",
    "$$\n",
    "\n",
    "Here, $f$ controls the rate at which $U$ is supplied,  \n",
    "and $f + k$ controls the rate at which $V$ decays.  For different values of $f$ and $k$, a large variety of behaviors can be observed.  Some result in stable patterns, while others remain time-dependent."
   ]
  },
  {
   "cell_type": "markdown",
   "id": "f4baee08-cba1-4604-8994-49bec2f69f84",
   "metadata": {},
   "source": [
    "### **D**. (3 points)  \n",
    "Implement the Gray-Scott model in two dimensions.  Explain the discretization and how the equations and boundary conditions are implemented in the program (you may choose which boundary conditions to use).  Plot the resulting concentrations of $U$ and/or $V$ for several choices of the parameters. The time-dependent diffusion program from Set 1 can be used as a base.  In this case, there are two variables to keep track of.  For parameters, start with $delta t = 1 $, $delta x = 1$,  $D_u = 0.16 $, $D_v = 0.08$, $f = 0.035$, $k = 0.060$.  For the initial conditions, you can take $u = 0.5$ everywhere in the system,  and $v = 0.25$ in a small square in the center of the system, and 0 outside.  Try adding a small amount of noise too."
   ]
  },
  {
   "cell_type": "code",
   "execution_count": null,
   "id": "a38dac85-3224-4357-b228-e1a3e35d138a",
   "metadata": {},
   "outputs": [],
   "source": []
  }
 ],
 "metadata": {
  "kernelspec": {
   "display_name": "Python 3 (ipykernel)",
   "language": "python",
   "name": "python3"
  },
  "language_info": {
   "codemirror_mode": {
    "name": "ipython",
    "version": 3
   },
   "file_extension": ".py",
   "mimetype": "text/x-python",
   "name": "python",
   "nbconvert_exporter": "python",
   "pygments_lexer": "ipython3",
   "version": "3.12.4"
  }
 },
 "nbformat": 4,
 "nbformat_minor": 5
}
