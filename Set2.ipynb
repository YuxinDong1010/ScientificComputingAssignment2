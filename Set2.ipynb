{
 "cells": [
  {
   "cell_type": "markdown",
   "id": "ea1bfa20-f9cb-41ab-8b6f-d9066cdffc83",
   "metadata": {},
   "source": [
    "# Set 2"
   ]
  },
  {
   "cell_type": "code",
   "execution_count": 12,
   "id": "9bf13978-138f-4e0d-9774-11cd51809a93",
   "metadata": {},
   "outputs": [],
   "source": [
    "import numpy as np\n",
    "import matplotlib.pyplot as plt\n",
    "import time\n",
    "from numba import njit, prange\n"
   ]
  },
  {
   "cell_type": "markdown",
   "id": "55c18376-0788-446c-bcc0-c76d9dd64919",
   "metadata": {},
   "source": [
    "## 2.1 Diffusion Limited Aggregation (**DLA**)\n",
    "\n",
    "The diffusion-limited aggregation (**DLA**) is a growth model based on diffusing particles.  The growth is started with a single seed (just a small square object in a single lattice point, at the bottom of the computational domain).  As described in detail in the lecture notes, **DLA** can be modeled by solving the time-independent diffusion equation (i.e. the Laplace equation), locating growth candidates around the cluster, and assigning a growth probability \\( $p_g$ \\) for each growth candidate, as a function of the concentration of diffusing nutrients at that growth location.  Next, a single growth candidate is added to the cluster with probability \\( $p_g$ \\).  After this growth step, the diffusion equation is again solved, and the process is iterated for a large number of growth steps.  You currently have almost all the tools available for a simulation of the **DLA** growth model.  Let us take a closer look at the growth model itself, allowing you to insert this into your programs.  A growth candidate is basically a lattice site that is not part of the object, but whose north, east, south, or west neighbor is part of the object. the object.\n"
   ]
  },
  {
   "cell_type": "markdown",
   "id": "f39725cb-cdb8-4793-b913-e635f2695fe0",
   "metadata": {},
   "source": [
    "The probability for growth at each of the growth candidates is calculated by\n",
    "\n",
    "$$\n",
    "p_g(i,j) = \\frac{c_{i,j}^\\eta}{\\sum_{\\mathrm{growth\\ candidates}} c_{i,j}^\\eta}\n",
    "$$\n",
    "\n",
    "The parameter $\\eta$ determines the shape of the object. For $\\eta$ = 1 we get the normal DLA cluster. For $\\eta$ < 1 the object becomes more compact (with $\\eta$ = 0 resulting in the Eden cluster), and for $\\eta$ > 1 the cluster becomes more open (and finally resembles say a lightning flash).\n",
    "\n",
    "Modelling the growth is now a simple procedure.  A set is created of all growth candidates with their associated weights, and a single candidate is chosen. Hint: use `numpy.choice` with the $p$ parameter for this."
   ]
  },
  {
   "cell_type": "markdown",
   "id": "bbf19871-7401-4db3-8eb9-9be964b0634a",
   "metadata": {},
   "source": [
    "---"
   ]
  },
  {
   "cell_type": "markdown",
   "id": "3af02881-25aa-4806-9eaa-26776c870e2e",
   "metadata": {},
   "source": [
    "### **A**. (4 points)\n",
    "Implement the growth model, paying special attention to the calcu\u0002lation of the growth probabilities. Run a number of growth simulations. Try to do this for a domain of size 100 × 100 and investigate the influence of the $\\eta$ parameter. Can you still optimise by setting your $\\omega$ parameter in the SOR iteration to a specific value?\n",
    "\n",
    "Hint: the SOR iteration is run over and over again on a slowly growing object. As\n",
    "the growth step is constructed in such a way that on average only one lattice site\n",
    "is grown to the object, the concentration fields will hardly change. Therefore, it is\n",
    "advantageous to start a new SOR iteration with the solution of the previous growth\n",
    "step. Also, you can start the simulation with the analytical result for the empty\n",
    "system, the linear concentration gradient of this equation\n",
    "\n",
    "$$\n",
    "\\lim\\limits_{t \\to \\infty} c(y,t) = y.\n",
    "$$\n"
   ]
  },
  {
   "cell_type": "code",
   "execution_count": null,
   "id": "2233b690-be31-44b4-af31-5f22a84cbd94",
   "metadata": {},
   "outputs": [],
   "source": [
    "# Initialize the concentration field and DLA seed at the bottom center\n",
    "def initialize_domain(N: int) -> tuple:\n",
    "    c = np.zeros((N, N))\n",
    "    c[:, -1] = 1  # Right boundary condition (ensuring diffusion)\n",
    "    objects = np.zeros_like(c, dtype=bool)\n",
    "    objects[N//2, 1] = True  # Seed at the bottom center\n",
    "    return c, objects\n",
    "\n",
    "# Solve the Laplace equation using the Successive Over-Relaxation (SOR) method\n",
    "@njit\n",
    "def SOR(c: np.ndarray, objects: np.ndarray, omega: float, tolerance: float, max_iter: int) -> int:\n",
    "    N = c.shape[0]\n",
    "    for iter in range(max_iter):\n",
    "        # Boundary conditions\n",
    "        # Corrected SOR boundary conditions\n",
    "        c[:, -1] = 1.  # Right boundary = 1\n",
    "        c[:, 0] = 0.   # Left boundary = 0\n",
    "        c[0, :] = c[1, :]  # Top boundary = second row\n",
    "        c[-1, :] = c[-2, :]  # Bottom boundary = second last row\n",
    "        \n",
    "        delta = 0.\n",
    "        for i in range(1, N-1):\n",
    "            for j in range(1, N-1):\n",
    "                if objects[i, j]:\n",
    "                    continue\n",
    "                old_c = c[i, j]\n",
    "                # Over-relaxation update\n",
    "                c[i, j] = max(omega * 0.25 * (c[i-1, j] + c[i+1, j] + c[i, j-1] + c[i, j+1]) + (1 - omega) * c[i, j], 0)\n",
    "                delta = max(delta, abs(c[i, j] - old_c))\n",
    "\n",
    "        if delta <= tolerance:\n",
    "            break\n",
    "    return iter  # Return the number of iterations\n",
    "\n",
    "def choose_site(c: np.ndarray, objects: np.ndarray, eta: float) -> tuple:\n",
    "    # Identify potential growth sites by checking neighboring occupied sites\n",
    "    left = np.roll(objects, -1, axis=0)\n",
    "    left[-1, :] = False  # Prevent wrapping around bottom boundary\n",
    "    right = np.roll(objects, 1, axis=0)\n",
    "    right[0, :] = False  # Prevent wrapping around top boundary\n",
    "    up = np.roll(objects, 1, axis=1)\n",
    "    up[:, 0] = False  # Prevent wrapping around left boundary\n",
    "    down = np.roll(objects, -1, axis=1)\n",
    "    down[:, -1] = False  # Prevent wrapping around right boundary\n",
    "\n",
    "    temp = np.logical_or(left, right)\n",
    "    temp = np.logical_or(temp, up)\n",
    "    temp = np.logical_or(temp, down)\n",
    "    growth_candidates = np.logical_and(temp, ~objects)  # Sites adjacent to existing objects\n",
    "\n",
    "    # Get all potential growth sites\n",
    "    row, col = np.where(growth_candidates)\n",
    "\n",
    "    # Ensure numerical stability by preventing division by zero\n",
    "    c_values = c[row, col]\n",
    "    c_values[c_values <= 1e-6] = 1e-6  # Replace extremely small values with a minimum threshold\n",
    "\n",
    "    sum_c = np.sum(c_values**eta)\n",
    "    if sum_c == 0 or np.isnan(sum_c):\n",
    "        return None, None  # No valid growth probabilities\n",
    "\n",
    "    # Compute probability of selecting each site\n",
    "    pg = c_values**eta / sum_c  \n",
    "\n",
    "    # Choose a growth site based on the computed probability\n",
    "    growth_site_idx = np.random.choice(len(row), size=1, p=pg)\n",
    "\n",
    "    return row[growth_site_idx][0], col[growth_site_idx][0]\n",
    "\n",
    "# Simulates the DLA growth process\n",
    "def DLA_growth(c: np.ndarray, objects: np.ndarray, eta: float, DLA_iter: int, \n",
    "               omega: float=1.7, tolerance: float=1e-4, max_iter: int=10000) -> list:\n",
    "    iters = []\n",
    "    for i in range(DLA_iter):\n",
    "        sor_iter = SOR(c, objects, omega, tolerance, max_iter)\n",
    "        iters.append(sor_iter)\n",
    "\n",
    "        if sor_iter == max_iter:\n",
    "            print(f'Warning: SOR did not converge in {max_iter} iterations')\n",
    "\n",
    "        x, y = choose_site(c, objects, eta)\n",
    "        if x is None:\n",
    "            break  # No more valid growth sites\n",
    "\n",
    "        objects[x, y] = True\n",
    "        c[x, y] = 0.\n",
    "\n",
    "    return iters\n",
    "\n",
    "# Modify the function to display multiple plots in one figure\n",
    "def plot_all_objects(N: int, eta_values: list, DLA_iter: int, omega: float=1.7):\n",
    "    fig, axes = plt.subplots(3, 2, figsize=(12, 16))  # Create a 2x3 grid\n",
    "    axes = axes.flatten()  # Flatten to a 1D array for easier indexing\n",
    "    \n",
    "    for i, eta in enumerate(eta_values):\n",
    "        c, objects = initialize_domain(N)\n",
    "        DLA_growth(c, objects, eta, DLA_iter, omega)\n",
    "        \n",
    "        cmap = plt.cm.viridis\n",
    "        cmap.set_under('black')\n",
    "        \n",
    "        img = axes[i].imshow(c.T, origin='lower', cmap=cmap, vmin=1e-4)\n",
    "        axes[i].set_title(fr'500 steps and $\\eta = {eta}$')  # Fixed invalid escape sequence\n",
    "        axes[i].axis('off')  # Remove axes ticks\n",
    "    \n",
    "    # Remove any unused subplots\n",
    "    for j in range(i + 1, len(axes)):\n",
    "        fig.delaxes(axes[j])\n",
    "    \n",
    "    # Adjust spacing to reduce gaps between subplots\n",
    "    plt.subplots_adjust(hspace=0.05, wspace=0.1)\n",
    "    \n",
    "    # Add a smaller colorbar to the side without affecting layout\n",
    "    fig.colorbar(img, ax=axes, location=\"right\", shrink=0.3)\n",
    "    \n",
    "    plt.show()\n",
    "\n",
    "# Example execution\n",
    "if __name__ == \"__main__\":\n",
    "    N = 100  # Grid size\n",
    "    DLA_iter = 500  # Number of growth steps\n",
    "    eta_values = [0.0, 0.5, 1.0, 1.5, 2.0]  # Different growth behaviors\n",
    "    plot_all_objects(N, eta_values, DLA_iter)\n",
    "\n",
    "plt.savefig('A_eta.png', dpi=300, bbox_inches='tight')"
   ]
  },
  {
   "cell_type": "code",
   "execution_count": 5,
   "id": "5435e1e4-2fe7-4a17-9914-5ddd6138382a",
   "metadata": {},
   "outputs": [
    {
     "data": {
      "image/png": "[encoded data removed]",
      "text/plain": [
       "<Figure size 600x500 with 1 Axes>"
      ]
     },
     "metadata": {},
     "output_type": "display_data"
    },
    {
     "name": "stdout",
     "output_type": "stream",
     "text": [
      "Optimal ω for η = 0.0: 1.5000000000000004\n",
      "Optimal ω for η = 0.5: 1.5000000000000004\n",
      "Optimal ω for η = 1.0: 1.5000000000000004\n",
      "Optimal ω for η = 1.5: 1.6000000000000005\n",
      "Optimal ω for η = 2.0: 1.7000000000000006\n"
     ]
    }
   ],
   "source": [
    "# Define a more refined range of omega values\n",
    "omega_values = np.arange(1.0, 1.95, 0.1)  # ω from 1.0 to 2.0 with step 0.1\n",
    "eta_values = [0.0, 0.5, 1.0, 1.5, 2.0]  # Different η values\n",
    "iterations_dict = {eta: [] for eta in eta_values}\n",
    "optimal_omega_dict = {}\n",
    "\n",
    "# Run SOR with different ω and η values\n",
    "for eta in eta_values:\n",
    "    min_iterations = float(\"inf\")\n",
    "    best_omega = None\n",
    "    for omega in omega_values:\n",
    "        c, objects = initialize_domain(N)\n",
    "        iterations = DLA_growth(c, objects, eta, DLA_iter, omega)\n",
    "        # Compute total iterations instead of average\n",
    "        total_iterations = sum(iterations)\n",
    "        iterations_dict[eta].append(total_iterations)\n",
    "        \n",
    "        if total_iterations < min_iterations:\n",
    "            min_iterations = total_iterations\n",
    "            best_omega = omega\n",
    "    \n",
    "    optimal_omega_dict[eta] = best_omega\n",
    "\n",
    "# Store results for different η values\n",
    "plt.figure(figsize=(6, 5))\n",
    "for eta in eta_values:\n",
    "    plt.plot(omega_values, iterations_dict[eta], marker='o', linestyle='-', label=f\"$\\\\eta$ = {eta}\")\n",
    "\n",
    "plt.xlabel(r'$\\omega$')\n",
    "plt.ylabel('SOR Iterations')\n",
    "plt.title(r'SOR Iteration Count vs. Relaxation Factor for Different $\\eta$ values')\n",
    "plt.legend()\n",
    "plt.grid()\n",
    "plt.tight_layout()\n",
    "plt.savefig(\"A_omega.png\", dpi=300, bbox_inches=\"tight\")\n",
    "\n",
    "plt.show()\n",
    "\n",
    "# Print optimal omega for each eta\n",
    "for eta, best_omega in optimal_omega_dict.items():\n",
    "    print(f\"Optimal ω for η = {eta}: {best_omega}\")\n"
   ]
  },
  {
   "cell_type": "markdown",
   "id": "a10e4f31-1ece-4bef-928d-f0e2436c970a",
   "metadata": {},
   "source": [
    "### **Optional**: (1 point) \n",
    "Think of a way to reduce the time required to solve the diffusion equation. Compare your results for the 100 × 100 grid in question A and try larger grid sizes. Some suggestions: parallelize one of the iteration schemes in the previous exercise set, and possibly use a GPU to do the calculations."
   ]
  },
  {
   "cell_type": "markdown",
   "id": "94f3bb65-8788-4978-b00a-cc6993feeec0",
   "metadata": {},
   "source": [
    "## **Be careful when run this cell, once you run it, the parallelization will lead MUCH MUCH slower execution to other cells!!! Use 'restart kernel' to avoid this issue.**"
   ]
  },
  {
   "cell_type": "code",
   "execution_count": 28,
   "id": "4785a8cf-5cc5-48c6-9cfd-3e0611a6e6a1",
   "metadata": {},
   "outputs": [
    {
     "name": "stdout",
     "output_type": "stream",
     "text": [
      "N = 100\n",
      "Sequential SOR Time: 0.0848 seconds\n",
      "Parallel SOR Time: 0.5015 seconds\n",
      "Speedup Factor: 0.17x\n",
      "\n",
      "N = 500\n",
      "Sequential SOR Time: 4.3717 seconds\n",
      "Parallel SOR Time: 0.9231 seconds\n",
      "Speedup Factor: 4.74x\n",
      "\n",
      "N = 1000\n",
      "Sequential SOR Time: 17.8441 seconds\n",
      "Parallel SOR Time: 3.1898 seconds\n",
      "Speedup Factor: 5.59x\n",
      "\n"
     ]
    }
   ],
   "source": [
    "# Define the optimized parallel SOR method\n",
    "@njit(parallel=True)\n",
    "def SOR_parallel(c: np.ndarray, objects: np.ndarray, omega: float, tolerance: float, max_iter: int) -> int:\n",
    "    N = c.shape[0]\n",
    "    for iter in range(max_iter):\n",
    "        # Boundary conditions\n",
    "        c[:, -1] = 1.  # Right boundary = 1\n",
    "        c[:, 0] = 0.   # Left boundary = 0\n",
    "        c[0, :] = c[1, :]  # Top boundary = second row\n",
    "        c[-1, :] = c[-2, :]  # Bottom boundary = second-to-last row\n",
    "\n",
    "        delta = 0.\n",
    "        for i in prange(1, N-1):  # Parallel loop\n",
    "            for j in range(1, N-1):\n",
    "                if objects[i, j]:\n",
    "                    continue\n",
    "                old_c = c[i, j]\n",
    "                c[i, j] = max(omega * 0.25 * (c[i-1, j] + c[i+1, j] + c[i, j-1] + c[i, j+1]) + (1 - omega) * c[i, j], 0)\n",
    "                delta = max(delta, abs(c[i, j] - old_c))\n",
    "\n",
    "        if delta <= tolerance:\n",
    "            break\n",
    "    return iter\n",
    "\n",
    "# Compare execution time for sequential vs parallel SOR\n",
    "N_values = [100, 500, 1000]  # Run for different grid sizes\n",
    "omega = 1.7  # Relaxation factor\n",
    "tolerance = 1e-4\n",
    "max_iter = 10000\n",
    "\n",
    "# Store results\n",
    "results = {}\n",
    "for N in N_values:\n",
    "    # Initialize the grid\n",
    "    c_seq, objects_seq = np.zeros((N, N)), np.zeros((N, N), dtype=bool)\n",
    "    c_par, objects_par = np.copy(c_seq), np.copy(objects_seq)\n",
    "\n",
    "    # Measure time for original sequential SOR\n",
    "    start_time = time.time()\n",
    "    SOR(c_seq, objects_seq, omega, tolerance, max_iter)\n",
    "    sequential_time = time.time() - start_time\n",
    "\n",
    "    # Measure time for parallel SOR\n",
    "    start_time = time.time()\n",
    "    SOR_parallel(c_par, objects_par, omega, tolerance, max_iter)\n",
    "    parallel_time = time.time() - start_time\n",
    "\n",
    "    results[N] = (sequential_time, parallel_time)\n",
    "\n",
    "    # Print the time comparison for different grid size N\n",
    "    print(f\"N = {N}\")\n",
    "    print(f\"Sequential SOR Time: {sequential_time:.4f} seconds\")\n",
    "    print(f\"Parallel SOR Time: {parallel_time:.4f} seconds\")\n",
    "    print(f\"Speedup Factor: {sequential_time / parallel_time:.2f}x\\n\")\n"
   ]
  },
  {
   "cell_type": "markdown",
   "id": "3134e716-5397-4666-a880-7278eb6b8daf",
   "metadata": {},
   "source": [
    "---"
   ]
  },
  {
   "cell_type": "markdown",
   "id": "6dc48507-4804-4b4b-95a5-374ce5c6a9ab",
   "metadata": {},
   "source": [
    "## 2.2 Monte Carlo simulation of DLA\n",
    "\r\n",
    "DLA can also be simulated by releasing random walkers on a grid, and letting them\r\n",
    "walk until they hit the cluster. When they hit, the walkers are stopped and become\r\n",
    "part of the cluster.\r\n",
    "One random walker at a time is released in the system. It moves in steps, which\r\n",
    "are randomly chosen to be one lattice point up, down, left, or right. If the walker\r\n",
    "reaches a cell neighboring the cluster, the walker is stopped there, so that the cell\r\n",
    "with the walker becomes part of the cluster.\r\n",
    "To simulate with the same boundary conditions as above, start the walkers on a\r\n",
    "randomly chosen point on the top boundary. If a walker walks out of the system\r\n",
    "on the top or bottom boundary it is removed and a new one created instead. If it\r\n",
    "walks across the left or right boundary, it should enter the system from the other\r\n",
    "side, as periodic boundary conditions were assumed in the horizontal direction."
   ]
  },
  {
   "cell_type": "markdown",
   "id": "7f79d5cf-6aca-4f3e-8a7d-f99aaf089f58",
   "metadata": {},
   "source": [
    "### **B**. (2 points) \n",
    "Implement the Monte Carlo version of DLA. Compare the resulting \n",
    "cluster to those obtained with the diffusion equation."
   ]
  },
  {
   "cell_type": "code",
   "execution_count": null,
   "id": "1a778713-e568-4093-99f1-fc03a1e19f55",
   "metadata": {},
   "outputs": [],
   "source": []
  },
  {
   "cell_type": "markdown",
   "id": "3b276af1-8108-434e-acbb-b80708e2f79f",
   "metadata": {},
   "source": [
    "### **C**. (1 point)\n",
    "In this model, the $\\eta$ parameter is no longer easily variable; it is fixed to 1.  However, another parameter can be introduced, namely a sticking probability $p_s$.  The sticking rule can then be stated in the following way:  if the walker enters a cell that is a neighbor of the cluster, it stops there with probability $p_s$.  If it does not stick, the walk continues as normal.  The walker is, however, not allowed to move into a site belonging to the cluster.  Run the simulation for different values of $p_s$, and plot the results.  How does the cluster shape depend on $p_s$ ?"
   ]
  },
  {
   "cell_type": "code",
   "execution_count": null,
   "id": "d602696e-bed4-42d6-b32c-bcfc2b4428c9",
   "metadata": {},
   "outputs": [],
   "source": []
  },
  {
   "cell_type": "markdown",
   "id": "ab52446b-38ea-4600-b95c-863fcda0606f",
   "metadata": {},
   "source": [
    "---"
   ]
  },
  {
   "cell_type": "markdown",
   "id": "5f7c07fd-376b-4c3b-85c8-9476f4512f45",
   "metadata": {},
   "source": [
    "## 2.3 The Gray-Scott model - A reaction-diffusion system\n",
    "\n",
    "The Gray-Scott model (J. E. Pearson, *Science*, Vol 261, 5118, 189-192 (1993))  \n",
    "describes a system of chemical reactions, involving the two chemicals $U$ and $V$.  \n",
    "Both chemicals diffuse in the system and also react with each other.  The reaction rate at any point in space is determined by the *local* concentrations of $U$ and $V$.  \n",
    "The reactions are:\n",
    "\n",
    "$$\n",
    "U + 2V \\rightarrow 3V \\tag{15}\n",
    "$$\n",
    "\n",
    "$$\n",
    "V \\rightarrow P \\tag{16}\n",
    "$$\n",
    "\n",
    "$U$ is continuously fed into the system. It then reacts with $V$ to produce more $V$.  $V$ spontaneously decays into $P$, a reaction product that does not interact with $U$ and $V$.  The first reaction is said to be autocatalytic since the reaction product $V$ enhances the production of itself.\n",
    "\n",
    "If we let $u$ and $v$ denote the concentrations of $U$ and $V$,  \n",
    "the following equations can be formulated:\n",
    "\n",
    "$$\n",
    "\\frac{\\partial u}{\\partial t} = D_u \\nabla^2 u - uv^2 + f(1 - u), \\tag{17}\n",
    "$$\n",
    "\n",
    "$$\n",
    "\\frac{\\partial v}{\\partial t} = D_v \\nabla^2 v + uv^2 - (f + k)v. \\tag{18}\n",
    "$$\n",
    "\n",
    "Here, $f$ controls the rate at which $U$ is supplied,  \n",
    "and $f + k$ controls the rate at which $V$ decays.  For different values of $f$ and $k$, a large variety of behaviors can be observed.  Some result in stable patterns, while others remain time-dependent."
   ]
  },
  {
   "cell_type": "markdown",
   "id": "f4baee08-cba1-4604-8994-49bec2f69f84",
   "metadata": {},
   "source": [
    "### **D**. (3 points)  \n",
    "Implement the Gray-Scott model in two dimensions.  Explain the discretization and how the equations and boundary conditions are implemented in the program (you may choose which boundary conditions to use).  Plot the resulting concentrations of $U$ and/or $V$ for several choices of the parameters. The time-dependent diffusion program from Set 1 can be used as a base.  In this case, there are two variables to keep track of.  For parameters, start with $delta t = 1 $, $delta x = 1$,  $D_u = 0.16 $, $D_v = 0.08$, $f = 0.035$, $k = 0.060$.  For the initial conditions, you can take $u = 0.5$ everywhere in the system,  and $v = 0.25$ in a small square in the center of the system, and 0 outside.  Try adding a small amount of noise too."
   ]
  },
  {
   "cell_type": "code",
   "execution_count": null,
   "id": "a38dac85-3224-4357-b228-e1a3e35d138a",
   "metadata": {},
   "outputs": [],
   "source": []
  }
 ],
 "metadata": {
  "kernelspec": {
   "display_name": "Python 3 (ipykernel)",
   "language": "python",
   "name": "python3"
  },
  "language_info": {
   "codemirror_mode": {
    "name": "ipython",
    "version": 3
   },
   "file_extension": ".py",
   "mimetype": "text/x-python",
   "name": "python",
   "nbconvert_exporter": "python",
   "pygments_lexer": "ipython3",
   "version": "3.12.4"
  }
 },
 "nbformat": 4,
 "nbformat_minor": 5
}
